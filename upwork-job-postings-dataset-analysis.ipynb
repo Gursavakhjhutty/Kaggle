{
 "cells": [
  {
   "cell_type": "markdown",
   "id": "ebbc1a2b",
   "metadata": {
    "editable": false,
    "execution": {
     "iopub.execute_input": "2024-02-27T05:50:28.005507Z",
     "iopub.status.busy": "2024-02-27T05:50:28.005100Z",
     "iopub.status.idle": "2024-02-27T05:50:28.010945Z",
     "shell.execute_reply": "2024-02-27T05:50:28.009486Z",
     "shell.execute_reply.started": "2024-02-27T05:50:28.005477Z"
    },
    "papermill": {
     "duration": 0.006079,
     "end_time": "2024-02-27T05:52:10.506263",
     "exception": false,
     "start_time": "2024-02-27T05:52:10.500184",
     "status": "completed"
    },
    "tags": []
   },
   "source": [
    "# Upwork Job Postings Dataset Analysis"
   ]
  },
  {
   "cell_type": "markdown",
   "id": "30ee92c0",
   "metadata": {
    "editable": false,
    "papermill": {
     "duration": 0.00507,
     "end_time": "2024-02-27T05:52:10.517317",
     "exception": false,
     "start_time": "2024-02-27T05:52:10.512247",
     "status": "completed"
    },
    "tags": []
   },
   "source": [
    "## Dataset Overview"
   ]
  },
  {
   "cell_type": "code",
   "execution_count": 1,
   "id": "f6801c9f",
   "metadata": {
    "execution": {
     "iopub.execute_input": "2024-02-27T05:52:10.530472Z",
     "iopub.status.busy": "2024-02-27T05:52:10.529899Z",
     "iopub.status.idle": "2024-02-27T05:52:15.643652Z",
     "shell.execute_reply": "2024-02-27T05:52:15.642262Z"
    },
    "papermill": {
     "duration": 5.124088,
     "end_time": "2024-02-27T05:52:15.646783",
     "exception": false,
     "start_time": "2024-02-27T05:52:10.522695",
     "status": "completed"
    },
    "tags": []
   },
   "outputs": [
    {
     "name": "stdout",
     "output_type": "stream",
     "text": [
      "                                               title  \\\n",
      "0  Experienced Media Buyer For Solar Pannel and R...   \n",
      "1                               Full Stack Developer   \n",
      "2                                    SMMA Bubble App   \n",
      "3             Talent Hunter Specialized in Marketing   \n",
      "4                                      Data Engineer   \n",
      "\n",
      "                                                link  \\\n",
      "0  https://www.upwork.com/jobs/Experienced-Media-...   \n",
      "1  https://www.upwork.com/jobs/Full-Stack-Develop...   \n",
      "2  https://www.upwork.com/jobs/SMMA-Bubble-App_%7...   \n",
      "3  https://www.upwork.com/jobs/Talent-Hunter-Spec...   \n",
      "4  https://www.upwork.com/jobs/Data-Engineer_%7E0...   \n",
      "\n",
      "                                         description  \\\n",
      "0  We’re looking for a talented and hardworking a...   \n",
      "1  Job Title: Full Stack DeveloperWe are seeking ...   \n",
      "2  I need someone to redesign my bubble.io site t...   \n",
      "3  Join Our Growing Team!We are an innovative com...   \n",
      "4  We are looking for a resource who can work par...   \n",
      "\n",
      "              published_date is_hourly  hourly_low  hourly_high  budget  \\\n",
      "0  2024-02-17 09:09:54+00:00     False         NaN          NaN   500.0   \n",
      "1  2024-02-17 09:09:17+00:00     False         NaN          NaN  1100.0   \n",
      "2  2024-02-17 09:08:46+00:00      True        10.0         30.0     NaN   \n",
      "3  2024-02-17 09:08:08+00:00       NaN         NaN          NaN     NaN   \n",
      "4  2024-02-17 09:07:42+00:00     False         NaN          NaN   650.0   \n",
      "\n",
      "         country  \n",
      "0            NaN  \n",
      "1  United States  \n",
      "2  United States  \n",
      "3  United States  \n",
      "4          India  \n"
     ]
    }
   ],
   "source": [
    "import pandas as pd\n",
    "import re\n",
    "from sklearn.feature_extraction.text import TfidfVectorizer\n",
    "from sklearn.model_selection import train_test_split\n",
    "from sklearn.ensemble import RandomForestClassifier\n",
    "from sklearn.metrics import accuracy_score, classification_report\n",
    "from sklearn.preprocessing import LabelEncoder\n",
    "df = pd.read_csv('/kaggle/input/upwork-job-postings-dataset-2024-50k-records/upwork-jobs.csv')\n",
    "print(df.head())"
   ]
  },
  {
   "cell_type": "markdown",
   "id": "4526827f",
   "metadata": {
    "editable": false,
    "papermill": {
     "duration": 0.006975,
     "end_time": "2024-02-27T05:52:15.661637",
     "exception": false,
     "start_time": "2024-02-27T05:52:15.654662",
     "status": "completed"
    },
    "tags": []
   },
   "source": [
    "## In-Demand Skills Analysis - Initial Approach"
   ]
  },
  {
   "cell_type": "code",
   "execution_count": 2,
   "id": "40715d70",
   "metadata": {
    "editable": false,
    "execution": {
     "iopub.execute_input": "2024-02-27T05:52:15.676526Z",
     "iopub.status.busy": "2024-02-27T05:52:15.676048Z",
     "iopub.status.idle": "2024-02-27T05:52:16.017304Z",
     "shell.execute_reply": "2024-02-27T05:52:16.016086Z"
    },
    "papermill": {
     "duration": 0.35253,
     "end_time": "2024-02-27T05:52:16.020168",
     "exception": false,
     "start_time": "2024-02-27T05:52:15.667638",
     "status": "completed"
    },
    "tags": []
   },
   "outputs": [
    {
     "data": {
      "text/plain": [
       "[('for', 15773),\n",
       " ('and', 7724),\n",
       " ('to', 5922),\n",
       " ('a', 5761),\n",
       " ('needed', 3799),\n",
       " ('website', 3579),\n",
       " ('developer', 3387),\n",
       " ('expert', 3086),\n",
       " ('with', 2906),\n",
       " ('in', 2902),\n",
       " ('video', 2829),\n",
       " ('design', 2749),\n",
       " ('designer', 2667),\n",
       " ('need', 2255),\n",
       " ('specialist', 1970),\n",
       " ('amp', 1918),\n",
       " ('of', 1834),\n",
       " ('data', 1782),\n",
       " ('looking', 1782),\n",
       " ('app', 1728)]"
      ]
     },
     "execution_count": 2,
     "metadata": {},
     "output_type": "execute_result"
    }
   ],
   "source": [
    "\n",
    "from collections import Counter\n",
    "import re\n",
    "\n",
    "# Function to clean and extract keywords from job titles\n",
    "def extract_keywords(title):\n",
    "    # Convert to lowercase\n",
    "    title = title.lower()\n",
    "    # Remove special characters and numbers\n",
    "    title = re.sub('[^a-z\\s]', '', title)\n",
    "    # Split into words\n",
    "    words = title.split()\n",
    "    return words\n",
    "\n",
    "# Apply the function to each title and flatten the list of lists\n",
    "keywords = [keyword for title in df['title'] for keyword in extract_keywords(title)]\n",
    "\n",
    "# Count the frequency of each keyword\n",
    "keyword_counts = Counter(keywords)\n",
    "\n",
    "# Get the most common 20 keywords\n",
    "most_common_keywords = keyword_counts.most_common(20)\n",
    "most_common_keywords\n"
   ]
  },
  {
   "cell_type": "markdown",
   "id": "804d7bd3",
   "metadata": {
    "editable": false,
    "papermill": {
     "duration": 0.005397,
     "end_time": "2024-02-27T05:52:16.031156",
     "exception": false,
     "start_time": "2024-02-27T05:52:16.025759",
     "status": "completed"
    },
    "tags": []
   },
   "source": [
    "## In-Demand Skills Analysis - Refined Approach"
   ]
  },
  {
   "cell_type": "code",
   "execution_count": 3,
   "id": "aeaa971a",
   "metadata": {
    "editable": false,
    "execution": {
     "iopub.execute_input": "2024-02-27T05:52:16.043868Z",
     "iopub.status.busy": "2024-02-27T05:52:16.043421Z",
     "iopub.status.idle": "2024-02-27T05:52:16.429399Z",
     "shell.execute_reply": "2024-02-27T05:52:16.428125Z"
    },
    "papermill": {
     "duration": 0.39535,
     "end_time": "2024-02-27T05:52:16.431993",
     "exception": false,
     "start_time": "2024-02-27T05:52:16.036643",
     "status": "completed"
    },
    "tags": []
   },
   "outputs": [
    {
     "data": {
      "text/plain": [
       "[('website', 3579),\n",
       " ('developer', 3387),\n",
       " ('video', 2829),\n",
       " ('design', 2749),\n",
       " ('designer', 2667),\n",
       " ('data', 1782),\n",
       " ('app', 1728),\n",
       " ('media', 1700),\n",
       " ('marketing', 1684),\n",
       " ('editor', 1611),\n",
       " ('social', 1580),\n",
       " ('youtube', 1507),\n",
       " ('content', 1504),\n",
       " ('assistant', 1471),\n",
       " ('web', 1417),\n",
       " ('google', 1414),\n",
       " ('create', 1398),\n",
       " ('wordpress', 1390),\n",
       " ('manager', 1362),\n",
       " ('business', 1307)]"
      ]
     },
     "execution_count": 3,
     "metadata": {},
     "output_type": "execute_result"
    }
   ],
   "source": [
    "\n",
    "# Define a list of common non-informative words to filter out\n",
    "non_informative_words = set([\n",
    "    'for', 'and', 'to', 'a', 'with', 'in', 'of', 'amp', 'the', 'is', 'on', 'at', 'as', 'by', 'we', 'are', 'our', 'be',\n",
    "    'this', 'who', 'from', 'will', 'an', 'have', 'that', 'not', 'or', 'but', 'your', 'all', 'can', 'has', 'more', 'any',\n",
    "    'need', 'needed', 'looking', 'expert', 'specialist', 'job', 'work', 'project', 'team'\n",
    "])\n",
    "\n",
    "# Redefine the keyword extraction function to filter out non-informative words\n",
    "def extract_refined_keywords(title):\n",
    "    title = title.lower()  # Convert to lowercase\n",
    "    title = re.sub('[^a-z\\s]', '', title)  # Remove special characters and numbers\n",
    "    words = title.split()  # Split into words\n",
    "    # Filter out non-informative words\n",
    "    filtered_words = [word for word in words if word not in non_informative_words]\n",
    "    return filtered_words\n",
    "\n",
    "# Apply the refined extraction function to each title and flatten the list of lists\n",
    "refined_keywords = [keyword for title in df['title'] for keyword in extract_refined_keywords(title)]\n",
    "\n",
    "# Count the frequency of each refined keyword\n",
    "refined_keyword_counts = Counter(refined_keywords)\n",
    "\n",
    "# Get the most common 20 refined keywords\n",
    "most_common_refined_keywords = refined_keyword_counts.most_common(20)\n",
    "most_common_refined_keywords\n"
   ]
  },
  {
   "cell_type": "code",
   "execution_count": 4,
   "id": "a1ab79a6",
   "metadata": {
    "execution": {
     "iopub.execute_input": "2024-02-27T05:52:16.446221Z",
     "iopub.status.busy": "2024-02-27T05:52:16.445808Z",
     "iopub.status.idle": "2024-02-27T05:52:16.746396Z",
     "shell.execute_reply": "2024-02-27T05:52:16.745426Z"
    },
    "papermill": {
     "duration": 0.310633,
     "end_time": "2024-02-27T05:52:16.748975",
     "exception": false,
     "start_time": "2024-02-27T05:52:16.438342",
     "status": "completed"
    },
    "tags": []
   },
   "outputs": [],
   "source": [
    "# Assuming the dataset is loaded into a DataFrame named `df`\n",
    "df_fixed_price = df[df['is_hourly'] == False].dropna(subset=['budget'])\n",
    "\n",
    "budget_quartiles = df_fixed_price['budget'].quantile([0.25, 0.5, 0.75])\n",
    "def categorize_budget(budget):\n",
    "    if budget <= budget_quartiles[0.25]:\n",
    "        return 'low'\n",
    "    elif budget <= budget_quartiles[0.5]:\n",
    "        return 'medium'\n",
    "    elif budget <= budget_quartiles[0.75]:\n",
    "        return 'high'\n",
    "    else:\n",
    "        return 'very_high'\n",
    "df_fixed_price['budget_category'] = df_fixed_price['budget'].apply(categorize_budget)"
   ]
  },
  {
   "cell_type": "code",
   "execution_count": 5,
   "id": "759310f8",
   "metadata": {
    "editable": false,
    "execution": {
     "iopub.execute_input": "2024-02-27T05:52:16.762933Z",
     "iopub.status.busy": "2024-02-27T05:52:16.761875Z",
     "iopub.status.idle": "2024-02-27T05:52:17.035429Z",
     "shell.execute_reply": "2024-02-27T05:52:17.034113Z"
    },
    "papermill": {
     "duration": 0.283356,
     "end_time": "2024-02-27T05:52:17.038274",
     "exception": false,
     "start_time": "2024-02-27T05:52:16.754918",
     "status": "completed"
    },
    "tags": []
   },
   "outputs": [],
   "source": [
    "budget_quartiles = df_fixed_price['budget'].quantile([0.25, 0.5, 0.75])\n",
    "df_fixed_price['budget_category'] = df_fixed_price['budget'].apply(categorize_budget)\n"
   ]
  },
  {
   "cell_type": "code",
   "execution_count": 6,
   "id": "6dedb90a",
   "metadata": {
    "execution": {
     "iopub.execute_input": "2024-02-27T05:52:17.051197Z",
     "iopub.status.busy": "2024-02-27T05:52:17.050754Z",
     "iopub.status.idle": "2024-02-27T05:52:17.610501Z",
     "shell.execute_reply": "2024-02-27T05:52:17.609333Z"
    },
    "papermill": {
     "duration": 0.569591,
     "end_time": "2024-02-27T05:52:17.613554",
     "exception": false,
     "start_time": "2024-02-27T05:52:17.043963",
     "status": "completed"
    },
    "tags": []
   },
   "outputs": [],
   "source": [
    "# Make sure you have the 're' module imported for this step\n",
    "df_fixed_price['title_cleaned'] = df_fixed_price['title'].apply(lambda x: re.sub('[^a-z\\s]', '', x.lower()))\n",
    "tfidf = TfidfVectorizer(stop_words='english', max_features=500)\n",
    "X = tfidf.fit_transform(df_fixed_price['title_cleaned']).toarray()\n"
   ]
  },
  {
   "cell_type": "code",
   "execution_count": 7,
   "id": "e8b5cee1",
   "metadata": {
    "execution": {
     "iopub.execute_input": "2024-02-27T05:52:17.626971Z",
     "iopub.status.busy": "2024-02-27T05:52:17.626552Z",
     "iopub.status.idle": "2024-02-27T05:52:17.683715Z",
     "shell.execute_reply": "2024-02-27T05:52:17.682755Z"
    },
    "papermill": {
     "duration": 0.066878,
     "end_time": "2024-02-27T05:52:17.686311",
     "exception": false,
     "start_time": "2024-02-27T05:52:17.619433",
     "status": "completed"
    },
    "tags": []
   },
   "outputs": [],
   "source": [
    "le = LabelEncoder()\n",
    "y = le.fit_transform(df_fixed_price['budget_category'])\n",
    "X_train, X_test, y_train, y_test = train_test_split(X, y, test_size=0.2, random_state=42)\n"
   ]
  },
  {
   "cell_type": "code",
   "execution_count": 8,
   "id": "3cf7676a",
   "metadata": {
    "execution": {
     "iopub.execute_input": "2024-02-27T05:52:17.699406Z",
     "iopub.status.busy": "2024-02-27T05:52:17.699003Z",
     "iopub.status.idle": "2024-02-27T05:52:21.363645Z",
     "shell.execute_reply": "2024-02-27T05:52:21.361913Z"
    },
    "papermill": {
     "duration": 3.674717,
     "end_time": "2024-02-27T05:52:21.366708",
     "exception": false,
     "start_time": "2024-02-27T05:52:17.691991",
     "status": "completed"
    },
    "tags": []
   },
   "outputs": [
    {
     "data": {
      "text/html": [
       "<style>#sk-container-id-1 {color: black;background-color: white;}#sk-container-id-1 pre{padding: 0;}#sk-container-id-1 div.sk-toggleable {background-color: white;}#sk-container-id-1 label.sk-toggleable__label {cursor: pointer;display: block;width: 100%;margin-bottom: 0;padding: 0.3em;box-sizing: border-box;text-align: center;}#sk-container-id-1 label.sk-toggleable__label-arrow:before {content: \"▸\";float: left;margin-right: 0.25em;color: #696969;}#sk-container-id-1 label.sk-toggleable__label-arrow:hover:before {color: black;}#sk-container-id-1 div.sk-estimator:hover label.sk-toggleable__label-arrow:before {color: black;}#sk-container-id-1 div.sk-toggleable__content {max-height: 0;max-width: 0;overflow: hidden;text-align: left;background-color: #f0f8ff;}#sk-container-id-1 div.sk-toggleable__content pre {margin: 0.2em;color: black;border-radius: 0.25em;background-color: #f0f8ff;}#sk-container-id-1 input.sk-toggleable__control:checked~div.sk-toggleable__content {max-height: 200px;max-width: 100%;overflow: auto;}#sk-container-id-1 input.sk-toggleable__control:checked~label.sk-toggleable__label-arrow:before {content: \"▾\";}#sk-container-id-1 div.sk-estimator input.sk-toggleable__control:checked~label.sk-toggleable__label {background-color: #d4ebff;}#sk-container-id-1 div.sk-label input.sk-toggleable__control:checked~label.sk-toggleable__label {background-color: #d4ebff;}#sk-container-id-1 input.sk-hidden--visually {border: 0;clip: rect(1px 1px 1px 1px);clip: rect(1px, 1px, 1px, 1px);height: 1px;margin: -1px;overflow: hidden;padding: 0;position: absolute;width: 1px;}#sk-container-id-1 div.sk-estimator {font-family: monospace;background-color: #f0f8ff;border: 1px dotted black;border-radius: 0.25em;box-sizing: border-box;margin-bottom: 0.5em;}#sk-container-id-1 div.sk-estimator:hover {background-color: #d4ebff;}#sk-container-id-1 div.sk-parallel-item::after {content: \"\";width: 100%;border-bottom: 1px solid gray;flex-grow: 1;}#sk-container-id-1 div.sk-label:hover label.sk-toggleable__label {background-color: #d4ebff;}#sk-container-id-1 div.sk-serial::before {content: \"\";position: absolute;border-left: 1px solid gray;box-sizing: border-box;top: 0;bottom: 0;left: 50%;z-index: 0;}#sk-container-id-1 div.sk-serial {display: flex;flex-direction: column;align-items: center;background-color: white;padding-right: 0.2em;padding-left: 0.2em;position: relative;}#sk-container-id-1 div.sk-item {position: relative;z-index: 1;}#sk-container-id-1 div.sk-parallel {display: flex;align-items: stretch;justify-content: center;background-color: white;position: relative;}#sk-container-id-1 div.sk-item::before, #sk-container-id-1 div.sk-parallel-item::before {content: \"\";position: absolute;border-left: 1px solid gray;box-sizing: border-box;top: 0;bottom: 0;left: 50%;z-index: -1;}#sk-container-id-1 div.sk-parallel-item {display: flex;flex-direction: column;z-index: 1;position: relative;background-color: white;}#sk-container-id-1 div.sk-parallel-item:first-child::after {align-self: flex-end;width: 50%;}#sk-container-id-1 div.sk-parallel-item:last-child::after {align-self: flex-start;width: 50%;}#sk-container-id-1 div.sk-parallel-item:only-child::after {width: 0;}#sk-container-id-1 div.sk-dashed-wrapped {border: 1px dashed gray;margin: 0 0.4em 0.5em 0.4em;box-sizing: border-box;padding-bottom: 0.4em;background-color: white;}#sk-container-id-1 div.sk-label label {font-family: monospace;font-weight: bold;display: inline-block;line-height: 1.2em;}#sk-container-id-1 div.sk-label-container {text-align: center;}#sk-container-id-1 div.sk-container {/* jupyter's `normalize.less` sets `[hidden] { display: none; }` but bootstrap.min.css set `[hidden] { display: none !important; }` so we also need the `!important` here to be able to override the default hidden behavior on the sphinx rendered scikit-learn.org. See: https://github.com/scikit-learn/scikit-learn/issues/21755 */display: inline-block !important;position: relative;}#sk-container-id-1 div.sk-text-repr-fallback {display: none;}</style><div id=\"sk-container-id-1\" class=\"sk-top-container\"><div class=\"sk-text-repr-fallback\"><pre>RandomForestClassifier(max_depth=10, random_state=42)</pre><b>In a Jupyter environment, please rerun this cell to show the HTML representation or trust the notebook. <br />On GitHub, the HTML representation is unable to render, please try loading this page with nbviewer.org.</b></div><div class=\"sk-container\" hidden><div class=\"sk-item\"><div class=\"sk-estimator sk-toggleable\"><input class=\"sk-toggleable__control sk-hidden--visually\" id=\"sk-estimator-id-1\" type=\"checkbox\" checked><label for=\"sk-estimator-id-1\" class=\"sk-toggleable__label sk-toggleable__label-arrow\">RandomForestClassifier</label><div class=\"sk-toggleable__content\"><pre>RandomForestClassifier(max_depth=10, random_state=42)</pre></div></div></div></div></div>"
      ],
      "text/plain": [
       "RandomForestClassifier(max_depth=10, random_state=42)"
      ]
     },
     "execution_count": 8,
     "metadata": {},
     "output_type": "execute_result"
    }
   ],
   "source": [
    "clf = RandomForestClassifier(random_state=42, n_estimators=100, max_depth=10)\n",
    "clf.fit(X_train, y_train)\n"
   ]
  },
  {
   "cell_type": "code",
   "execution_count": 9,
   "id": "fd710db7",
   "metadata": {
    "editable": false,
    "execution": {
     "iopub.execute_input": "2024-02-27T05:52:21.382384Z",
     "iopub.status.busy": "2024-02-27T05:52:21.381902Z",
     "iopub.status.idle": "2024-02-27T05:52:21.468986Z",
     "shell.execute_reply": "2024-02-27T05:52:21.467850Z"
    },
    "papermill": {
     "duration": 0.098516,
     "end_time": "2024-02-27T05:52:21.472578",
     "exception": false,
     "start_time": "2024-02-27T05:52:21.374062",
     "status": "completed"
    },
    "tags": []
   },
   "outputs": [
    {
     "name": "stdout",
     "output_type": "stream",
     "text": [
      "Accuracy: 0.3609142857142857\n",
      "              precision    recall  f1-score   support\n",
      "\n",
      "        high       0.82      0.01      0.02       818\n",
      "         low       0.45      0.36      0.40      1302\n",
      "      medium       0.31      0.69      0.43      1270\n",
      "   very_high       0.47      0.23      0.31       985\n",
      "\n",
      "    accuracy                           0.36      4375\n",
      "   macro avg       0.51      0.32      0.29      4375\n",
      "weighted avg       0.48      0.36      0.32      4375\n",
      "\n"
     ]
    }
   ],
   "source": [
    "y_pred = clf.predict(X_test)\n",
    "print(\"Accuracy:\", accuracy_score(y_test, y_pred))\n",
    "print(classification_report(y_test, y_pred, target_names=le.classes_))\n"
   ]
  }
 ],
 "metadata": {
  "kaggle": {
   "accelerator": "none",
   "dataSources": [
    {
     "datasetId": 4488372,
     "sourceId": 7690995,
     "sourceType": "datasetVersion"
    }
   ],
   "dockerImageVersionId": 30646,
   "isGpuEnabled": false,
   "isInternetEnabled": true,
   "language": "python",
   "sourceType": "notebook"
  },
  "kernelspec": {
   "display_name": "Python 3",
   "language": "python",
   "name": "python3"
  },
  "language_info": {
   "codemirror_mode": {
    "name": "ipython",
    "version": 3
   },
   "file_extension": ".py",
   "mimetype": "text/x-python",
   "name": "python",
   "nbconvert_exporter": "python",
   "pygments_lexer": "ipython3",
   "version": "3.10.13"
  },
  "papermill": {
   "default_parameters": {},
   "duration": 15.025289,
   "end_time": "2024-02-27T05:52:22.201209",
   "environment_variables": {},
   "exception": null,
   "input_path": "__notebook__.ipynb",
   "output_path": "__notebook__.ipynb",
   "parameters": {},
   "start_time": "2024-02-27T05:52:07.175920",
   "version": "2.5.0"
  }
 },
 "nbformat": 4,
 "nbformat_minor": 5
}
